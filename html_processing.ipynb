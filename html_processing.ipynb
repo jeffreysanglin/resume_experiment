{
 "cells": [
  {
   "cell_type": "markdown",
   "id": "18b68b36-fa10-4ccf-ad3c-b9ab9078aed1",
   "metadata": {},
   "source": [
    "## Deprecated"
   ]
  },
  {
   "cell_type": "code",
   "execution_count": 53,
   "id": "23556679-6ba0-410b-9814-603c5fbe8e4f",
   "metadata": {
    "tags": []
   },
   "outputs": [],
   "source": [
    "import os\n",
    "import re\n",
    "from bs4 import BeautifulSoup  "
   ]
  },
  {
   "cell_type": "code",
   "execution_count": 4,
   "id": "002ae3ea-4e94-4eb2-88c8-7f41c3049646",
   "metadata": {
    "tags": []
   },
   "outputs": [
    {
     "name": "stdout",
     "output_type": "stream",
     "text": [
      "['/notebooks/resume_experiment/data/linkedin_htm/linkedin_p3_2024.12.02.htm', '/notebooks/resume_experiment/data/linkedin_htm/linkedin_p4_2024.12.02.htm', '/notebooks/resume_experiment/data/linkedin_htm/linkedin_p2_2024.12.02.htm', '/notebooks/resume_experiment/data/linkedin_htm/linkedin_p1_2024.12.02.htm']\n"
     ]
    }
   ],
   "source": [
    "html_path = \"/notebooks/resume_experiment/data/linkedin_htm/\"\n",
    "html_files = [os.path.join(html_path, f) for f in os.listdir(html_path)]\n",
    "print(html_files)\n"
   ]
  },
  {
   "cell_type": "code",
   "execution_count": 6,
   "id": "8423ed9e-a934-4267-9650-da29c627c67f",
   "metadata": {
    "tags": []
   },
   "outputs": [],
   "source": [
    "def htmlRead(f):\n",
    "    with open(f, 'r', encoding='utf-8') as file:\n",
    "        html_content = file.read()\n",
    "\n",
    "    return(html_content)\n"
   ]
  },
  {
   "cell_type": "code",
   "execution_count": 51,
   "id": "9db3a73e-fc7c-451c-9564-256b3f2f3713",
   "metadata": {
    "tags": []
   },
   "outputs": [
    {
     "name": "stdout",
     "output_type": "stream",
     "text": [
      "['DEFAULT_INTERESTING_STRING_TYPES', 'EMPTY_ELEMENT_EVENT', 'END_ELEMENT_EVENT', 'START_ELEMENT_EVENT', 'STRING_ELEMENT_EVENT', '__bool__', '__call__', '__class__', '__contains__', '__copy__', '__deepcopy__', '__delattr__', '__delitem__', '__dict__', '__dir__', '__doc__', '__eq__', '__format__', '__ge__', '__getattr__', '__getattribute__', '__getitem__', '__getstate__', '__gt__', '__hash__', '__init__', '__init_subclass__', '__iter__', '__le__', '__len__', '__lt__', '__module__', '__ne__', '__new__', '__reduce__', '__reduce_ex__', '__repr__', '__setattr__', '__setitem__', '__sizeof__', '__str__', '__subclasshook__', '__unicode__', '__weakref__', '_all_strings', '_clone', '_event_stream', '_find_all', '_find_one', '_format_tag', '_indent_string', '_is_xml', '_lastRecursiveChild', '_last_descendant', '_namespaces', '_should_pretty_print', 'append', 'attrs', 'can_be_empty_element', 'cdata_list_attributes', 'childGenerator', 'children', 'clear', 'contents', 'css', 'decode', 'decode_contents', 'decompose', 'decomposed', 'default', 'descendants', 'encode', 'encode_contents', 'extend', 'extract', 'fetchNextSiblings', 'fetchParents', 'fetchPrevious', 'fetchPreviousSiblings', 'find', 'findAll', 'findAllNext', 'findAllPrevious', 'findChild', 'findChildren', 'findNext', 'findNextSibling', 'findNextSiblings', 'findParent', 'findParents', 'findPrevious', 'findPreviousSibling', 'findPreviousSiblings', 'find_all', 'find_all_next', 'find_all_previous', 'find_next', 'find_next_sibling', 'find_next_siblings', 'find_parent', 'find_parents', 'find_previous', 'find_previous_sibling', 'find_previous_siblings', 'format_string', 'formatter_for_name', 'get', 'getText', 'get_attribute_list', 'get_text', 'has_attr', 'has_key', 'hidden', 'index', 'insert', 'insert_after', 'insert_before', 'interesting_string_types', 'isSelfClosing', 'is_empty_element', 'known_xml', 'name', 'namespace', 'next', 'nextGenerator', 'nextSibling', 'nextSiblingGenerator', 'next_element', 'next_elements', 'next_sibling', 'next_siblings', 'parent', 'parentGenerator', 'parents', 'parserClass', 'parser_class', 'prefix', 'preserve_whitespace_tags', 'prettify', 'previous', 'previousGenerator', 'previousSibling', 'previousSiblingGenerator', 'previous_element', 'previous_elements', 'previous_sibling', 'previous_siblings', 'recursiveChildGenerator', 'renderContents', 'replaceWith', 'replaceWithChildren', 'replace_with', 'replace_with_children', 'select', 'select_one', 'self_and_descendants', 'setup', 'smooth', 'sourceline', 'sourcepos', 'string', 'strings', 'stripped_strings', 'text', 'unwrap', 'wrap']\n",
      "\n",
      "\n"
     ]
    }
   ],
   "source": [
    "hrm1 = htmlRead(html_files[0])\n",
    "souper = BeautifulSoup(hrm1, \"html.parser\")\n",
    "\n",
    "#Search through subheadings to get to linkedin sidebar\n",
    "jobs_sidebar = souper.find('body').find('div',class_=\"application-outlet\").find('div', class_=\"authentication-outlet\").find('div',class_=\"scaffold-layout\")\\\n",
    "    .find('div',class_=\"scaffold-layout__inner\")\\\n",
    "    .find('div',class_=\"scaffold-layout__row\")\\\n",
    "    .find('main',class_=\"HmSpKcsrROGzfVOxnrQfUEcNQIDmKCvLgMpmE\")\\\n",
    "    .find('div',class_=\"scaffold-layout__list-detail-container\")\\\n",
    "    .find('div',class_=\"scaffold-layout__list-detail-inner\")\\\n",
    "    .find('div',class_=\"scaffold-layout__list\")\\\n",
    "    .find('div',class_=\"YtCCjvwnvMFkeVBhkqvYpGiZrbLMCDAAWwk\")\\\n",
    "    .find('ul',class_=\"miAddGIjMHHdgORRmJhODYSXmTYqrXKRVBww\")\n",
    "\n",
    "\n",
    "#print(jobs_sidebar.text[:100])\n",
    "print(dir(jobs_sidebar))\n",
    "print(jobs_sidebar.next_element)"
   ]
  },
  {
   "cell_type": "code",
   "execution_count": 108,
   "id": "ab3eefc7-e3bb-4014-b45d-e005ddc6b886",
   "metadata": {
    "tags": []
   },
   "outputs": [
    {
     "name": "stdout",
     "output_type": "stream",
     "text": [
      "Data Scientist\n",
      "\n",
      "Pinterest\n",
      "\n",
      "Sr. Data Scientist\n",
      "\n",
      "Instacart\n",
      "\n",
      "Senior Data Scientist, Analytics - User Lifecycle\n",
      "\n",
      "Discord\n",
      "\n",
      "Product Data Scientist\n",
      "\n",
      "$130.3K/yr - $183K/yr · 401(k), +2 benefits\n",
      "\n",
      "Director Data Analytics\n",
      "\n",
      "Microsoft\n",
      "\n",
      "Staff Data Scientist\n",
      "\n",
      "Honor\n",
      "\n",
      "Staff Data Scientist - Remote\n"
     ]
    },
    {
     "ename": "IndexError",
     "evalue": "list index out of range",
     "output_type": "error",
     "traceback": [
      "\u001b[0;31m---------------------------------------------------------------------------\u001b[0m",
      "\u001b[0;31mIndexError\u001b[0m                                Traceback (most recent call last)",
      "Cell \u001b[0;32mIn[108], line 11\u001b[0m\n\u001b[1;32m      9\u001b[0m job_title \u001b[38;5;241m=\u001b[39m card[\u001b[38;5;241m1\u001b[39m]\u001b[38;5;241m.\u001b[39mselect_one(\u001b[38;5;124m'\u001b[39m\u001b[38;5;124mdiv div div div div span strong\u001b[39m\u001b[38;5;124m'\u001b[39m)\n\u001b[1;32m     10\u001b[0m \u001b[38;5;28mprint\u001b[39m(job_title\u001b[38;5;241m.\u001b[39mtext)\n\u001b[0;32m---> 11\u001b[0m company \u001b[38;5;241m=\u001b[39m \u001b[43mcard\u001b[49m\u001b[43m[\u001b[49m\u001b[38;5;241;43m1\u001b[39;49m\u001b[43m]\u001b[49m\u001b[38;5;241;43m.\u001b[39;49m\u001b[43mselect_one\u001b[49m\u001b[43m(\u001b[49m\u001b[38;5;124;43m'\u001b[39;49m\u001b[38;5;124;43mdiv div div div div div div div div div div div\u001b[39;49m\u001b[38;5;124;43m'\u001b[39;49m\u001b[43m)\u001b[49m\u001b[38;5;241;43m.\u001b[39;49m\u001b[43mselect\u001b[49m\u001b[43m(\u001b[49m\u001b[38;5;124;43m'\u001b[39;49m\u001b[38;5;124;43mdiv span\u001b[39;49m\u001b[38;5;124;43m'\u001b[39;49m\u001b[43m)\u001b[49m\u001b[43m[\u001b[49m\u001b[38;5;241;43m4\u001b[39;49m\u001b[43m]\u001b[49m\n\u001b[1;32m     12\u001b[0m \u001b[38;5;28mprint\u001b[39m(company\u001b[38;5;241m.\u001b[39mtext)\n\u001b[1;32m     13\u001b[0m \u001b[38;5;66;03m#if specific_link:\u001b[39;00m\n\u001b[1;32m     14\u001b[0m \u001b[38;5;66;03m#    print(specific_link.text, specific_link['href'])\u001b[39;00m\n",
      "\u001b[0;31mIndexError\u001b[0m: list index out of range"
     ]
    }
   ],
   "source": [
    "# Find all <li> elements where id starts with \"ember\"\n",
    "li_elements = jobs_sidebar.find_all('li', id=re.compile(r'^ember'))\n",
    "\n",
    "# Print the extracted elements\n",
    "for li in li_elements:\n",
    "    #print(li.prettify())\n",
    "    card = li.select_one('div div div div').select('div')\n",
    "    #job_title = card\n",
    "    job_title = card[1].select_one('div div div div div span strong')\n",
    "    print(job_title.text)\n",
    "    company = card[1].select_one('div div div div div div div div div div div div').select('div span')[4]\n",
    "    print(company.text)\n",
    "    #if specific_link:\n",
    "    #    print(specific_link.text, specific_link['href'])\n",
    "    \n",
    "\n"
   ]
  },
  {
   "cell_type": "code",
   "execution_count": null,
   "id": "1fb44cb4-dc10-4d8b-b070-6524394ecc45",
   "metadata": {},
   "outputs": [],
   "source": []
  }
 ],
 "metadata": {
  "kernelspec": {
   "display_name": "Python 3 (ipykernel)",
   "language": "python",
   "name": "python3"
  },
  "language_info": {
   "codemirror_mode": {
    "name": "ipython",
    "version": 3
   },
   "file_extension": ".py",
   "mimetype": "text/x-python",
   "name": "python",
   "nbconvert_exporter": "python",
   "pygments_lexer": "ipython3",
   "version": "3.11.7"
  }
 },
 "nbformat": 4,
 "nbformat_minor": 5
}
