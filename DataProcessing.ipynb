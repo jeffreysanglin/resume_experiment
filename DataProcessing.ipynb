{
 "cells": [
  {
   "cell_type": "markdown",
   "id": "1fc510ae",
   "metadata": {},
   "source": [
    "tldr - This data has been downloaded from my \"saved jobs\" on LinkedIn. This notebook helps process and sort the data into our groups for the experiment."
   ]
  },
  {
   "cell_type": "markdown",
   "id": "e64790c1",
   "metadata": {},
   "source": [
    "# Summary\n",
    "I'm running an experiment on how well two different resume's perform. Does a professionally written resume perform better than one I've written myself?\t\t\t\n",
    "\n",
    "# Hypothesis\n",
    "$H_{0} = \\text{The resume and cover letter provided by Haley Stock perform the same as my own self-written resume and cover letter.}$\n",
    "\n",
    "$H_{a} = \\text{The professionally-written resume and cover letter have a different interview invitation rate than self-written resume and cover letter.}$"
   ]
  },
  {
   "cell_type": "markdown",
   "id": "9bb8b8a2",
   "metadata": {},
   "source": [
    "| Name                       | Definition                                                                                                   | Example Format | P1   | P2 (from detectable difference below) |\n",
    "|----------------------------|-------------------------------------------------------------------------------------------------------------|----------------|------|----------------------------------------|\n",
    "| Interview Invitation Rate  | This is the percent of applications that receive an interview invite. It shows how interested companies are in my resume. | 0.50%         | 8%   | 13%                                    |\n",
    "| Application Response Rate  | This is the percent of applications that receive a rejection/interview invite within 48 hrs. It shows how confident companies are in my qualifications. | 1%             |      |                                        |\n"
   ]
  },
  {
   "cell_type": "markdown",
   "id": "6a5fda4e",
   "metadata": {},
   "source": [
    "# Data Collection Process\n",
    "**LinkedIn:** I searched for \"data\" and remote in US roles. I then saved the roles that met the criteria below to a csv (via LinkedIn's data request form)."
   ]
  },
  {
   "cell_type": "markdown",
   "id": "cc5e6da3",
   "metadata": {},
   "source": [
    "# Inclusion Criteria\n",
    "Here are the kinds of jobs I'm interested in. I'm going to include these roles in the experiment based on the logic listed below.\n",
    "\n",
    "| **Category**            | **Details**                                                                                                                                                          |\n",
    "|:------------------------|:----------------------------------------------------------------------------------------------------------------------------------------------------------------------|\n",
    "| **Location**            | Remote work only                                                                                                                                                     |\n",
    "| **Minimum Job Roles**   | Data Scientist, Senior Data/Product Analyst, or Manager/Lead<br>No Applied Scientist, Decision Science, Analytics Engineer, or Researcher roles (significantly different than my experience would allow)<br>No Product Manager roles (not interested in product management)<br>No Director level roles (largely above my level) |\n",
    "| **Type**                | Full time and contracted                                                                                                                                             |\n",
    "| **Duplicate Job Roles** | Sometimes companies post multiple versions of a job (by location or reposts after a few weeks have gone by). Will do my best to dedupe these in the final \"saved jobs\" list. |\n"
   ]
  },
  {
   "cell_type": "markdown",
   "id": "9d63981e",
   "metadata": {},
   "source": [
    "# Potential Pitfalls and Adjustments\n",
    "1) *Cutting sample collection short.* **Discussion:** See power analysis below. Peer review pending.\n",
    "2) *Confirming random assignment.* **Discussion:** Randomizing at cluster level (company + job title).\n",
    "3) *Random assignment fails to equally distribute \"heavy\" segments across A/B.* **Discussion:** Equally distribute the following segments and assess post-assignment:\n",
    "   - Recency of job posting\n",
    "   - \"Repeat\" companies (see \"8)\" below)\n",
    "4) *Ensure the Ceteris Parabus assumption* (that is, ensure all else is same between treatment/control besides the treatment). **Discussion:** Use the exact resume and cover letter provided for both.\n",
    "5) *Cross-contamination for treatment and control groups.* **Discussion:** I don't think we'll have to worry about this, unless a recruiter leaves one company and goes to another.\n",
    "6) *Multiple comparisons can lead to higher false positive rate.* **Discussion:** Only making one comparison -- professionally written resume vs. self-written resume.\n",
    "7) *Simpson's paradox due to graduated roll-outs.* **Discussion:** I'm only performing one testing period, so this point is moot. Could simply look at final period if so.\n",
    "8) *Primacy or novelty effect.* **Discussion:** This could be a problem, if I previously applied for a role with a company before conducting the experiment. I can adjust for this by running the experiment longer, but that's not really helpful given my current situation. Instead, I will include a category segment across treatment/control for repeat and new companies.\n",
    "    - \"Repeat\" = companies that I've applied to before. I'll attempt to equally distribute these during assignment.\n",
    "    - \"New\" = companies that I have not applied to before. I'll attempt to equally distribute these during assignment."
   ]
  },
  {
   "cell_type": "markdown",
   "id": "80df2ab6",
   "metadata": {},
   "source": [
    "# Data Processing"
   ]
  },
  {
   "cell_type": "code",
   "execution_count": null,
   "id": "7d38d3e8",
   "metadata": {
    "tags": []
   },
   "outputs": [],
   "source": [
    "!pwd"
   ]
  },
  {
   "cell_type": "code",
   "execution_count": 19,
   "id": "bbaeabdc",
   "metadata": {
    "tags": []
   },
   "outputs": [
    {
     "name": "stdout",
     "output_type": "stream",
     "text": [
      "/notebooks/resume_experiment/data/modified_data.csv\n"
     ]
    }
   ],
   "source": [
    "import os\n",
    "import numpy as np\n",
    "import pandas as pd\n",
    "import random\n",
    "from IPython.display import FileLink\n",
    "\n",
    "#from sklearn.model_selection import StratifiedShuffleSplit <--this didn't work, because some groupings only have 1 job role.\n",
    "\n",
    "#import the job sampling data\n",
    "data_folder = \"/notebooks/resume_experiment/data\"\n",
    "dataf = \"modified_data.csv\"\n",
    "data_file = os.path.join(data_folder, dataf)\n",
    "\n",
    "print(data_file)"
   ]
  },
  {
   "cell_type": "code",
   "execution_count": 2,
   "id": "37bfa8ce",
   "metadata": {
    "tags": []
   },
   "outputs": [
    {
     "data": {
      "text/html": [
       "<div>\n",
       "<style scoped>\n",
       "    .dataframe tbody tr th:only-of-type {\n",
       "        vertical-align: middle;\n",
       "    }\n",
       "\n",
       "    .dataframe tbody tr th {\n",
       "        vertical-align: top;\n",
       "    }\n",
       "\n",
       "    .dataframe thead th {\n",
       "        text-align: right;\n",
       "    }\n",
       "</style>\n",
       "<table border=\"1\" class=\"dataframe\">\n",
       "  <thead>\n",
       "    <tr style=\"text-align: right;\">\n",
       "      <th></th>\n",
       "      <th>role_title</th>\n",
       "      <th>company</th>\n",
       "      <th>date_saved</th>\n",
       "      <th>posting_url</th>\n",
       "      <th>days_since_post</th>\n",
       "      <th>is_repeat_company</th>\n",
       "      <th>date_posted</th>\n",
       "      <th>Applied Jobs Check</th>\n",
       "      <th>DELETE Row</th>\n",
       "      <th>Check Unique Job/Co</th>\n",
       "      <th>job_posted_pin</th>\n",
       "      <th>role_cat</th>\n",
       "      <th>sorting_hat_col</th>\n",
       "    </tr>\n",
       "  </thead>\n",
       "  <tbody>\n",
       "    <tr>\n",
       "      <th>146</th>\n",
       "      <td>Staff Data Scientist - Remote</td>\n",
       "      <td>Empower</td>\n",
       "      <td>11/11/24, 1:49 AM</td>\n",
       "      <td>http://www.linkedin.com/jobs/view/3980785534</td>\n",
       "      <td>90.0</td>\n",
       "      <td>0.0</td>\n",
       "      <td>8/17/2024</td>\n",
       "      <td>NaN</td>\n",
       "      <td>NaN</td>\n",
       "      <td>1</td>\n",
       "      <td>More30</td>\n",
       "      <td>Data Scientist</td>\n",
       "      <td>0.0_More30_Data Scientist</td>\n",
       "    </tr>\n",
       "    <tr>\n",
       "      <th>359</th>\n",
       "      <td>Lead Insights Analyst</td>\n",
       "      <td>Billtrust</td>\n",
       "      <td>11/9/24, 10:14 AM</td>\n",
       "      <td>http://www.linkedin.com/jobs/view/4029850547</td>\n",
       "      <td>14.0</td>\n",
       "      <td>0.0</td>\n",
       "      <td>11/1/2024</td>\n",
       "      <td>NaN</td>\n",
       "      <td>NaN</td>\n",
       "      <td>1</td>\n",
       "      <td>14days</td>\n",
       "      <td>Manager</td>\n",
       "      <td>0.0_14days_Manager</td>\n",
       "    </tr>\n",
       "    <tr>\n",
       "      <th>77</th>\n",
       "      <td>Lead Data Scientist, Personalization Analytics</td>\n",
       "      <td>Movable Ink</td>\n",
       "      <td>11/9/24, 10:31 AM</td>\n",
       "      <td>http://www.linkedin.com/jobs/view/4049955359</td>\n",
       "      <td>7.0</td>\n",
       "      <td>0.0</td>\n",
       "      <td>11/8/2024</td>\n",
       "      <td>NaN</td>\n",
       "      <td>NaN</td>\n",
       "      <td>1</td>\n",
       "      <td>7days</td>\n",
       "      <td>Manager</td>\n",
       "      <td>0.0_7days_Manager</td>\n",
       "    </tr>\n",
       "    <tr>\n",
       "      <th>383</th>\n",
       "      <td>Lead Data Scientist</td>\n",
       "      <td>Better Life Partners</td>\n",
       "      <td>11/5/24, 9:30 AM</td>\n",
       "      <td>http://www.linkedin.com/jobs/view/4031469435</td>\n",
       "      <td>30.0</td>\n",
       "      <td>0.0</td>\n",
       "      <td>10/16/2024</td>\n",
       "      <td>NaN</td>\n",
       "      <td>NaN</td>\n",
       "      <td>1</td>\n",
       "      <td>30days</td>\n",
       "      <td>Manager</td>\n",
       "      <td>0.0_30days_Manager</td>\n",
       "    </tr>\n",
       "    <tr>\n",
       "      <th>341</th>\n",
       "      <td>Sr. Data Scientist - Product Analytics (Remote...</td>\n",
       "      <td>Smartsheet</td>\n",
       "      <td>11/9/24, 10:14 AM</td>\n",
       "      <td>http://www.linkedin.com/jobs/view/4034556325</td>\n",
       "      <td>7.0</td>\n",
       "      <td>0.0</td>\n",
       "      <td>11/8/2024</td>\n",
       "      <td>NaN</td>\n",
       "      <td>NaN</td>\n",
       "      <td>1</td>\n",
       "      <td>7days</td>\n",
       "      <td>Data Scientist</td>\n",
       "      <td>0.0_7days_Data Scientist</td>\n",
       "    </tr>\n",
       "  </tbody>\n",
       "</table>\n",
       "</div>"
      ],
      "text/plain": [
       "                                            role_title               company  \\\n",
       "146                      Staff Data Scientist - Remote               Empower   \n",
       "359                              Lead Insights Analyst             Billtrust   \n",
       "77      Lead Data Scientist, Personalization Analytics           Movable Ink   \n",
       "383                                Lead Data Scientist  Better Life Partners   \n",
       "341  Sr. Data Scientist - Product Analytics (Remote...            Smartsheet   \n",
       "\n",
       "            date_saved                                   posting_url  \\\n",
       "146  11/11/24, 1:49 AM  http://www.linkedin.com/jobs/view/3980785534   \n",
       "359  11/9/24, 10:14 AM  http://www.linkedin.com/jobs/view/4029850547   \n",
       "77   11/9/24, 10:31 AM  http://www.linkedin.com/jobs/view/4049955359   \n",
       "383   11/5/24, 9:30 AM  http://www.linkedin.com/jobs/view/4031469435   \n",
       "341  11/9/24, 10:14 AM  http://www.linkedin.com/jobs/view/4034556325   \n",
       "\n",
       "     days_since_post  is_repeat_company date_posted Applied Jobs Check  \\\n",
       "146             90.0                0.0   8/17/2024                NaN   \n",
       "359             14.0                0.0   11/1/2024                NaN   \n",
       "77               7.0                0.0   11/8/2024                NaN   \n",
       "383             30.0                0.0  10/16/2024                NaN   \n",
       "341              7.0                0.0   11/8/2024                NaN   \n",
       "\n",
       "    DELETE Row  Check Unique Job/Co job_posted_pin        role_cat  \\\n",
       "146        NaN                    1         More30  Data Scientist   \n",
       "359        NaN                    1         14days         Manager   \n",
       "77         NaN                    1          7days         Manager   \n",
       "383        NaN                    1         30days         Manager   \n",
       "341        NaN                    1          7days  Data Scientist   \n",
       "\n",
       "               sorting_hat_col  \n",
       "146  0.0_More30_Data Scientist  \n",
       "359         0.0_14days_Manager  \n",
       "77           0.0_7days_Manager  \n",
       "383         0.0_30days_Manager  \n",
       "341   0.0_7days_Data Scientist  "
      ]
     },
     "metadata": {},
     "output_type": "display_data"
    },
    {
     "data": {
      "text/html": [
       "<div>\n",
       "<style scoped>\n",
       "    .dataframe tbody tr th:only-of-type {\n",
       "        vertical-align: middle;\n",
       "    }\n",
       "\n",
       "    .dataframe tbody tr th {\n",
       "        vertical-align: top;\n",
       "    }\n",
       "\n",
       "    .dataframe thead th {\n",
       "        text-align: right;\n",
       "    }\n",
       "</style>\n",
       "<table border=\"1\" class=\"dataframe\">\n",
       "  <thead>\n",
       "    <tr style=\"text-align: right;\">\n",
       "      <th></th>\n",
       "      <th>role_title</th>\n",
       "      <th>company</th>\n",
       "      <th>date_saved</th>\n",
       "      <th>posting_url</th>\n",
       "      <th>days_since_post</th>\n",
       "      <th>is_repeat_company</th>\n",
       "      <th>date_posted</th>\n",
       "      <th>Applied Jobs Check</th>\n",
       "      <th>DELETE Row</th>\n",
       "      <th>Check Unique Job/Co</th>\n",
       "      <th>job_posted_pin</th>\n",
       "      <th>role_cat</th>\n",
       "      <th>sorting_hat_col</th>\n",
       "    </tr>\n",
       "  </thead>\n",
       "  <tbody>\n",
       "  </tbody>\n",
       "</table>\n",
       "</div>"
      ],
      "text/plain": [
       "Empty DataFrame\n",
       "Columns: [role_title, company, date_saved, posting_url, days_since_post, is_repeat_company, date_posted, Applied Jobs Check, DELETE Row, Check Unique Job/Co, job_posted_pin, role_cat, sorting_hat_col]\n",
       "Index: []"
      ]
     },
     "metadata": {},
     "output_type": "display_data"
    }
   ],
   "source": [
    "raw_df = pd.read_csv(data_file, low_memory=False)\n",
    "raw_df = raw_df.dropna(axis=0,subset=\"role_title\")\n",
    "raw_df = raw_df.loc[raw_df.loc[:,'DELETE Row'] != True]\n",
    "raw_df['sorting_hat_col'] = raw_df['is_repeat_company'].astype('str')+\"_\"+raw_df['job_posted_pin']+\"_\"+raw_df['role_cat']\n",
    "\n",
    "display(raw_df.sample(5))\n",
    "display(raw_df.loc[raw_df.loc[:,\"sorting_hat_col\"].isnull()].head(10))"
   ]
  },
  {
   "cell_type": "code",
   "execution_count": null,
   "id": "bd9f5359",
   "metadata": {
    "tags": []
   },
   "outputs": [],
   "source": [
    "#build a list of the companies that are in our dataset. include new vs. repeat as a dimension\n",
    "companies = raw_df.copy().filter(['company','is_repeat_company','days_since_post'])\n",
    "companies['counts'] = 1\n",
    "agg_mets = {'counts':\"count\", 'days_since_post':\"mean\"}\n",
    "companies = companies.groupby(['company','is_repeat_company']).agg(agg_mets).reset_index()\n",
    "display(companies.head())"
   ]
  },
  {
   "cell_type": "code",
   "execution_count": null,
   "id": "a6163b44",
   "metadata": {
    "tags": []
   },
   "outputs": [],
   "source": [
    "#ensure company lists are mutually exclusive\n",
    "new_companies = set(new_cluster['company'])\n",
    "repeat_companies = set(repeat_cluster['company'])\n",
    "\n",
    "is_mutually_exclusive = new_companies.isdisjoint(repeat_cluster)\n",
    "assert is_mutually_exclusive, \"Companies overlapp between new and repeat.\""
   ]
  },
  {
   "cell_type": "code",
   "execution_count": 33,
   "id": "561cd54d-7956-406f-91b5-4909b52ab156",
   "metadata": {
    "tags": []
   },
   "outputs": [
    {
     "data": {
      "text/html": [
       "<div>\n",
       "<style scoped>\n",
       "    .dataframe tbody tr th:only-of-type {\n",
       "        vertical-align: middle;\n",
       "    }\n",
       "\n",
       "    .dataframe tbody tr th {\n",
       "        vertical-align: top;\n",
       "    }\n",
       "\n",
       "    .dataframe thead th {\n",
       "        text-align: right;\n",
       "    }\n",
       "</style>\n",
       "<table border=\"1\" class=\"dataframe\">\n",
       "  <thead>\n",
       "    <tr style=\"text-align: right;\">\n",
       "      <th></th>\n",
       "      <th>role_title</th>\n",
       "    </tr>\n",
       "    <tr>\n",
       "      <th>ab_split</th>\n",
       "      <th></th>\n",
       "    </tr>\n",
       "  </thead>\n",
       "  <tbody>\n",
       "    <tr>\n",
       "      <th>0.0</th>\n",
       "      <td>142</td>\n",
       "    </tr>\n",
       "    <tr>\n",
       "      <th>1.0</th>\n",
       "      <td>135</td>\n",
       "    </tr>\n",
       "  </tbody>\n",
       "</table>\n",
       "</div>"
      ],
      "text/plain": [
       "          role_title\n",
       "ab_split            \n",
       "0.0              142\n",
       "1.0              135"
      ]
     },
     "metadata": {},
     "output_type": "display_data"
    }
   ],
   "source": [
    "def sortingHat(data, sampling_col, stratification_col, split_percent=0.5, seed=42):\n",
    "    uni_strats = data[stratification_col].unique()\n",
    "    rng = np.random.default_rng(seed)\n",
    "    \n",
    "    # Create a new column for the splits\n",
    "    data['ab_split'] = np.nan\n",
    "    \n",
    "    for s in uni_strats:\n",
    "        sorting_df = data.loc[data.loc[:,stratification_col]==s]\n",
    "        nrows = sorting_df.shape[0]\n",
    "        split = pd.Series(rng.integers(low=0,high=1, size=nrows, endpoint=True), index=sorting_df.index)\n",
    "        split.name = \"ab_split\"\n",
    "        #split_df = pd.concat([sorting_df, split], axis=1)\n",
    "         # Assign the split values to the DataFrame\n",
    "        data.loc[sorting_df.index, 'ab_split'] = split\n",
    "        \n",
    "        #print(f\"{s}: {sorting_df.shape}\")\n",
    "        #print(split[:6])\n",
    "        #display(sorting_df.head(2))\n",
    "    display(data.filter(['ab_split','role_title']).groupby('ab_split').count())\n",
    "        \n",
    "    return(data)\n",
    "\n",
    "df = sortingHat(raw_df, 'company', 'sorting_hat_col', split_percent=0.5)\n",
    "split_path = os.path.join(data_folder,\"split.csv\")\n",
    "df.to_csv(split_path)\n",
    "#print(len(grps))\n",
    "#print(grps)\n",
    "    "
   ]
  },
  {
   "cell_type": "code",
   "execution_count": 24,
   "id": "e679d7b7-20ee-40bb-9862-a6bd2242d2bf",
   "metadata": {
    "tags": []
   },
   "outputs": [],
   "source": [
    "#display(FileLink('./split.csv'))"
   ]
  },
  {
   "cell_type": "code",
   "execution_count": null,
   "id": "2ddcb5cf",
   "metadata": {
    "tags": []
   },
   "outputs": [],
   "source": [
    "\n",
    "\n",
    "for c in clusters:\n",
    "    generate random number between 1,2\n",
    "    if random number == 1:\n",
    "        assign c to control\n",
    "    elif random number == 2:\n",
    "        assign c to treatment\n",
    "\n",
    "save the assignment to a file for control\n",
    "save the assignment to a file for treatment\n",
    "tell me how many jobs are in each treatment and control cluster"
   ]
  },
  {
   "cell_type": "code",
   "execution_count": null,
   "id": "b98dd3a5-0d2c-4b67-a102-463d5ba56bfb",
   "metadata": {},
   "outputs": [],
   "source": []
  }
 ],
 "metadata": {
  "kernelspec": {
   "display_name": "Python 3 (ipykernel)",
   "language": "python",
   "name": "python3"
  },
  "language_info": {
   "codemirror_mode": {
    "name": "ipython",
    "version": 3
   },
   "file_extension": ".py",
   "mimetype": "text/x-python",
   "name": "python",
   "nbconvert_exporter": "python",
   "pygments_lexer": "ipython3",
   "version": "3.11.7"
  }
 },
 "nbformat": 4,
 "nbformat_minor": 5
}
