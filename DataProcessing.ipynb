{
 "cells": [
  {
   "cell_type": "markdown",
   "id": "c0fed07f",
   "metadata": {},
   "source": [
    "This data has been downloaded from my \"saved jobs\" on LinkedIn. This notebook helps process and sort the data into our groups for the experiment."
   ]
  },
  {
   "cell_type": "markdown",
   "id": "782a29fc",
   "metadata": {},
   "source": [
    "# Summary\n",
    "I'm running an experiment on how well two different resume's perform. Does a professionally written resume perform better than one I've written myself?\t\t\t\n",
    "\n",
    "# Hypothesis\n",
    "$H_{0} = \\text{The resume and cover letter provided by Haley Stock perform the same as my own self-written resume and cover letter.}$\n",
    "\n",
    "$H_{a} = \\text{The professionally-written resume and cover letter have a different interview invitation rate than self-written resume and cover letter.}$"
   ]
  },
  {
   "cell_type": "markdown",
   "id": "2da86ec7",
   "metadata": {},
   "source": [
    "| Name                       | Definition                                                                                                   | Example Format | P1   | P2 (from detectable difference below) |\n",
    "|----------------------------|-------------------------------------------------------------------------------------------------------------|----------------|------|----------------------------------------|\n",
    "| Interview Invitation Rate  | This is the percent of applications that receive an interview invite. It shows how interested companies are in my resume. | 0.50%         | 8%   | 13%                                    |\n",
    "| Application Response Rate  | This is the percent of applications that receive a rejection/interview invite within 48 hrs. It shows how confident companies are in my qualifications. | 1%             |      |                                        |\n"
   ]
  },
  {
   "cell_type": "markdown",
   "id": "5d15c6d4",
   "metadata": {},
   "source": [
    "# Data Collection Process\n",
    "..."
   ]
  },
  {
   "cell_type": "markdown",
   "id": "5c12e25d",
   "metadata": {},
   "source": [
    "# Potential Pitfalls and Adjustments\n",
    "1) Cutting sample collection short. **Solution:** See power analysis below. Peer review pending.\n",
    "2) Confirming random assignment. **Solution:** Randomizing at cluster level (company + job title).\n",
    "3) Random assignment fails to equally distribute \"heavy\" segments across A/B. **Solution:** Equally distribute the following segments and assess post-assignment:\n",
    "- recency of job posting\n",
    "4) Ensure the Ceteris Parabus assumption. **Solution:** "
   ]
  },
  {
   "cell_type": "markdown",
   "id": "370da620",
   "metadata": {},
   "source": [
    "# Data Processing"
   ]
  },
  {
   "cell_type": "code",
   "execution_count": null,
   "id": "7bd18b12",
   "metadata": {},
   "outputs": [],
   "source": []
  }
 ],
 "metadata": {
  "kernelspec": {
   "display_name": "Python 3 (ipykernel)",
   "language": "python",
   "name": "python3"
  },
  "language_info": {
   "codemirror_mode": {
    "name": "ipython",
    "version": 3
   },
   "file_extension": ".py",
   "mimetype": "text/x-python",
   "name": "python",
   "nbconvert_exporter": "python",
   "pygments_lexer": "ipython3",
   "version": "3.11.7"
  }
 },
 "nbformat": 4,
 "nbformat_minor": 5
}
